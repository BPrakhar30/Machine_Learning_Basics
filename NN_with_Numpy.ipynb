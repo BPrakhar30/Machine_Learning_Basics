{
 "cells": [
  {
   "cell_type": "markdown",
   "metadata": {},
   "source": [
    "# Recitation 5: Feed Forward Neural Networks using Numpy"
   ]
  },
  {
   "cell_type": "code",
   "execution_count": 3,
   "metadata": {},
   "outputs": [],
   "source": [
    "import numpy as np\n",
    "import matplotlib.pyplot as plt"
   ]
  },
  {
   "cell_type": "code",
   "execution_count": 4,
   "metadata": {},
   "outputs": [],
   "source": [
    "def scale_features(x):\n",
    "    \"\"\"\n",
    "    Min-Max Normalization\n",
    "     - Normalize the input between 0 and 1\n",
    "    \n",
    "    \"\"\"\n",
    "    max_inp = np.max(x, axis=0)\n",
    "    min_inp = np.min(x, axis=0)\n",
    "\n",
    "    return (x - min_inp) / (max_inp - min_inp)\n",
    "\n",
    "def sigmoid(x):\n",
    "    \"\"\"\n",
    "    Sigmoid function.\n",
    "    \"\"\"\n",
    "    return 1.0 / (1.0 + np.exp(-x))\n",
    "\n",
    "\n",
    "def train_test_split(x, y, train_ratio=0.6):\n",
    "    \"\"\"\n",
    "    Split the data into test and train sets\n",
    "    \"\"\"\n",
    "    num_samples = len(x)\n",
    "    num_train = int(train_ratio * num_samples)\n",
    "    x_train = x[:num_train]\n",
    "    y_train = y[:num_train]\n",
    "    x_test = x[num_train:]\n",
    "    y_test = y[num_train:]\n",
    "    return x_train, x_test, y_train, y_test"
   ]
  },
  {
   "cell_type": "code",
   "execution_count": 11,
   "metadata": {},
   "outputs": [
    {
     "name": "stdout",
     "output_type": "stream",
     "text": [
      "(1000, 1)\n",
      "(1000, 1)\n"
     ]
    },
    {
     "data": {
      "text/plain": [
       "<matplotlib.collections.PathCollection at 0x7f682fbd91c0>"
      ]
     },
     "execution_count": 11,
     "metadata": {},
     "output_type": "execute_result"
    },
    {
     "data": {
      "image/png": "[encoded data removed]",
      "text/plain": [
       "<Figure size 432x288 with 1 Axes>"
      ]
     },
     "metadata": {
      "needs_background": "light"
     },
     "output_type": "display_data"
    }
   ],
   "source": [
    "# function that we will fit\n",
    "def func(x):\n",
    "    return np.cos(x) + x ** 2\n",
    "\n",
    "num_samples = 1000\n",
    "np.random.seed(6)\n",
    "x = np.random.randn(num_samples, 1)\n",
    "x = scale_features(np.sort(x))\n",
    "y = scale_features(func(x))\n",
    "\n",
    "print(x.shape)\n",
    "print(y.shape)\n",
    "\n",
    "# plot \n",
    "plt.scatter(x, y)"
   ]
  },
  {
   "cell_type": "code",
   "execution_count": 12,
   "metadata": {},
   "outputs": [],
   "source": [
    "def network(layers):\n",
    "    \"\"\"\n",
    "    Initializing a neural network.\n",
    "    \n",
    "    For layer i, weight has shape (layers[i + 1], layers[i]), bias has shape (layers[i + 1], 1)\n",
    "    Apply random initialization to weight and zero initialization to bias.\n",
    "    \n",
    "    Parameters:\n",
    "        layers (list)      -- list of hidden layer size\n",
    "    \n",
    "    Return:\n",
    "        w (list)           -- list of weight\n",
    "        b (list)           -- list of bias\n",
    "    \"\"\"\n",
    "    w = []\n",
    "    b = []\n",
    "    for i_layer in range(len(layers) - 1):\n",
    "        weights_layer = 0.01 * np.random.randn(layers[i_layer + 1], layers[i_layer])\n",
    "        bias_layer = np.zeros((layers[i_layer + 1], 1))\n",
    "        w.append(weights_layer)\n",
    "        b.append(bias_layer)\n",
    "    return w, b\n"
   ]
  },
  {
   "cell_type": "code",
   "execution_count": 7,
   "metadata": {},
   "outputs": [],
   "source": [
    "def forward(w, b, inputs):\n",
    "    \"\"\"\n",
    "    Forward pass function.\n",
    "    \n",
    "    Parameters:\n",
    "        w (list)              -- list of weight\n",
    "        b (list)              -- list of bias\n",
    "        inputs (ndarray)      -- model input for each sample, should have shape (num_samples, 1)\n",
    "    \"\"\"\n",
    "    \n",
    "    inp_layer_val = inputs\n",
    "    # Stores the hidden and output layer values after activation\n",
    "    layer_vals = []  \n",
    "    \n",
    "    for i_layer, (i_w, i_b) in enumerate(zip(w, b)):\n",
    "        out_layer_val = sigmoid(np.dot(i_w, inp_layer_val) + i_b)\n",
    "        layer_vals.append(out_layer_val)\n",
    "        inp_layer_val = out_layer_val\n",
    "        \n",
    "    y_pred = layer_vals[-1]\n",
    "    return y_pred, layer_vals\n",
    "\n",
    "\n",
    "def backward(x, y, w, b, layer_vals):\n",
    "    \"\"\"\n",
    "    Backward pass function.\n",
    "    \n",
    "    Parameters:\n",
    "        x (ndarray)           -- inputs\n",
    "        y (ndarray)           -- target\n",
    "        w (list)              -- list of weight\n",
    "        b (list)              -- list of bias\n",
    "        layer_vals (list)     -- list of Z (value after activation)\n",
    "    \"\"\"\n",
    "    num_layers = len(layer_vals)  \n",
    "    delta = [0] * num_layers\n",
    "    \n",
    "    # use least-square loss\n",
    "    delta[-1] = 2 * (layer_vals[-1] - y) * (1 - layer_vals[-1]) * layer_vals[-1]\n",
    "\n",
    "    for i_layer in range(num_layers - 2, -1, -1):\n",
    "        layer_val = layer_vals[i_layer]\n",
    "        delta[i_layer] = layer_val * (1 - layer_val) * (np.dot(w[i_layer + 1].T , delta[i_layer + 1]))\n",
    "\n",
    "    grad_b = delta\n",
    "    grad_w = [0] * num_layers\n",
    "    grad_w[0] = np.dot(delta[0], x.T)\n",
    "\n",
    "    for i_weight in range(1, len(w)):\n",
    "        grad_w[i_weight] = np.dot(delta[i_weight], layer_vals[i_weight - 1].T)\n",
    "\n",
    "    return grad_w, grad_b\n",
    "\n",
    "\n",
    "def step(w, b, grad_w, grad_b, lr):\n",
    "    \"\"\"\n",
    "    Gradient descent function.\n",
    "        w (list)              -- list of weight\n",
    "        b (list)              -- list of bias\n",
    "        grad_w (list)         -- list of weight gradient\n",
    "        grad_b (list)         -- list of bias gradient\n",
    "    \"\"\"\n",
    "    num_weights = len(w)\n",
    "\n",
    "    for i_w in range(num_weights):\n",
    "        w[i_w] -= lr * grad_w[i_w]\n",
    "        b[i_w] -= lr * grad_b[i_w]\n",
    "    return w, b\n"
   ]
  },
  {
   "cell_type": "code",
   "execution_count": 14,
   "metadata": {},
   "outputs": [],
   "source": [
    "def test(w, b, x, y):\n",
    "    \"\"\"\n",
    "    Function to test prediction on a trained network and estimate the error\n",
    "    \"\"\"\n",
    "    error = []\n",
    "    y_pred = np.zeros_like(y)\n",
    "    for i in range(len(x)):\n",
    "        x_sample = x[i: i + 1]\n",
    "        y_sample = y[i: i + 1]\n",
    "        y_pred_sample, _ = forward(w, b, x_sample)\n",
    "        y_pred[i] = y_pred_sample\n",
    "        error.append(np.linalg.norm(y_pred_sample - y_sample))\n",
    "\n",
    "    return y_pred, error\n",
    "\n",
    "def train_test(layers, num_epoch, lr, x, y):\n",
    "    \n",
    "    #split the data into train and test sets\n",
    "    x_train, x_test, y_train, y_test = train_test_split(x, y)\n",
    "    w, b = network(layers)\n",
    "    print(w)\n",
    "    print(b)\n",
    "    \n",
    "    # check shapes\n",
    "    print(\"Network initialized!\")\n",
    "    for l, (wi, bi) in enumerate(zip(w, b)):\n",
    "        print(\"\\tw%d:\" %(l), wi.shape)\n",
    "        print(\"\\tb%d:\" %(l), bi.shape)\n",
    "    \n",
    "    # begin iteration\n",
    "    for i_epoch in range(num_epoch):\n",
    "        error = []\n",
    "        y_pred_train = np.zeros_like(y_train)\n",
    "        \n",
    "        # loop over all samples\n",
    "        for i in range(len(x_train)):\n",
    "            # slice input\n",
    "            x_sample = x_train[i: i + 1]\n",
    "            y_sample = y_train[i: i + 1]\n",
    "            # forward pass\n",
    "            y_pred_sample, layer_vals = forward(w, b, x_sample)\n",
    "            # backward pass\n",
    "            grad_w, grad_b = backward(x_sample, y_sample, w, b, layer_vals)\n",
    "            # update weight\n",
    "            w, b = step(w, b, grad_w, grad_b, lr)\n",
    "            \n",
    "            error.append(np.linalg.norm(y_pred_sample - y_sample))\n",
    "            y_pred_train[i] = y_pred_sample\n",
    "            \n",
    "            \n",
    "        if i_epoch % 100 == 1:\n",
    "            \n",
    "            y_pred_test, test_error = test(w, b, x_test, y_test)\n",
    "            print('epoch', i_epoch, ':', np.mean(error), ',', np.mean(test_error))\n",
    "            \n",
    "    return w, b\n"
   ]
  },
  {
   "cell_type": "code",
   "execution_count": 15,
   "metadata": {},
   "outputs": [
    {
     "name": "stdout",
     "output_type": "stream",
     "text": [
      "[array([[-0.00311784],\n",
      "       [ 0.00729004],\n",
      "       [ 0.00217821]]), array([[-0.00899092, -0.02486781,  0.00913252]])]\n",
      "[array([[0.],\n",
      "       [0.],\n",
      "       [0.]]), array([[0.]])]\n",
      "Network initialized!\n",
      "\tw0: (3, 1)\n",
      "\tb0: (3, 1)\n",
      "\tw1: (1, 3)\n",
      "\tb1: (1, 1)\n",
      "epoch 1 : 0.12416021204001983 , 0.12348850513373055\n",
      "epoch 101 : 0.009602637343488101 , 0.00985972594630377\n",
      "epoch 201 : 0.008550204567411877 , 0.008434000675590808\n",
      "epoch 301 : 0.006834133158950818 , 0.00660659165039359\n",
      "epoch 401 : 0.0048788622487336095 , 0.004634103300856451\n",
      "epoch 501 : 0.003415329458704921 , 0.0031827929441586\n",
      "epoch 601 : 0.002762120831333917 , 0.002444961729925146\n",
      "epoch 701 : 0.0027260426101975844 , 0.0023715595524336675\n",
      "epoch 801 : 0.0027486309658792795 , 0.002374559178588913\n",
      "epoch 901 : 0.0027205504995430805 , 0.002343317302950862\n"
     ]
    }
   ],
   "source": [
    "layers = [1, 3, 1]\n",
    "num_epoch = 1000\n",
    "lr = 1.0 \n",
    "np.random.seed(6)\n",
    "w, b = train_test(layers, num_epoch, lr, x, y)\n"
   ]
  },
  {
   "cell_type": "code",
   "execution_count": 16,
   "metadata": {},
   "outputs": [
    {
     "data": {
      "text/plain": [
       "<matplotlib.collections.PathCollection at 0x7f682fb2af70>"
      ]
     },
     "execution_count": 16,
     "metadata": {},
     "output_type": "execute_result"
    },
    {
     "data": {
      "image/png": "[encoded data removed]",
      "text/plain": [
       "<Figure size 432x288 with 1 Axes>"
      ]
     },
     "metadata": {
      "needs_background": "light"
     },
     "output_type": "display_data"
    }
   ],
   "source": [
    "# Plot the predictions\n",
    "y_pred, e_pred = test(w, b, x, y)\n",
    "plt.scatter(x, y_pred)\n",
    "plt.scatter(x, y)"
   ]
  },
  {
   "cell_type": "code",
   "execution_count": null,
   "metadata": {},
   "outputs": [],
   "source": []
  },
  {
   "cell_type": "code",
   "execution_count": null,
   "metadata": {},
   "outputs": [],
   "source": []
  }
 ],
 "metadata": {
  "kernelspec": {
   "display_name": "Python 3 (ipykernel)",
   "language": "python",
   "name": "python3"
  },
  "language_info": {
   "codemirror_mode": {
    "name": "ipython",
    "version": 3
   },
   "file_extension": ".py",
   "mimetype": "text/x-python",
   "name": "python",
   "nbconvert_exporter": "python",
   "pygments_lexer": "ipython3",
   "version": "3.8.10"
  }
 },
 "nbformat": 4,
 "nbformat_minor": 2
}
